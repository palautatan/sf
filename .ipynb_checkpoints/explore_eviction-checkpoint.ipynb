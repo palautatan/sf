{
 "cells": [
  {
   "cell_type": "markdown",
   "metadata": {},
   "source": [
    "# Exploring Eviction Data"
   ]
  },
  {
   "cell_type": "code",
   "execution_count": 30,
   "metadata": {
    "collapsed": false
   },
   "outputs": [],
   "source": [
    "import pandas as pd\n",
    "import numpy as np\n",
    "from collections import Counter\n",
    "\n",
    "import matplotlib as plt\n",
    "import gmplot"
   ]
  },
  {
   "cell_type": "code",
   "execution_count": 8,
   "metadata": {
    "collapsed": false
   },
   "outputs": [
    {
     "data": {
      "text/html": [
       "<div>\n",
       "<table border=\"1\" class=\"dataframe\">\n",
       "  <thead>\n",
       "    <tr style=\"text-align: right;\">\n",
       "      <th></th>\n",
       "      <th>Eviction ID</th>\n",
       "      <th>Address</th>\n",
       "      <th>City</th>\n",
       "      <th>State</th>\n",
       "      <th>Eviction Notice Source Zipcode</th>\n",
       "      <th>File Date</th>\n",
       "      <th>Non Payment</th>\n",
       "      <th>Breach</th>\n",
       "      <th>Nuisance</th>\n",
       "      <th>Illegal Use</th>\n",
       "      <th>...</th>\n",
       "      <th>Roommate Same Unit</th>\n",
       "      <th>Other Cause</th>\n",
       "      <th>Late Payments</th>\n",
       "      <th>Lead Remediation</th>\n",
       "      <th>Development</th>\n",
       "      <th>Good Samaritan Ends</th>\n",
       "      <th>Constraints Date</th>\n",
       "      <th>Supervisor District</th>\n",
       "      <th>Neighborhoods - Analysis Boundaries</th>\n",
       "      <th>Location</th>\n",
       "    </tr>\n",
       "  </thead>\n",
       "  <tbody>\n",
       "    <tr>\n",
       "      <th>0</th>\n",
       "      <td>M162268</td>\n",
       "      <td>2700 Block Of San Bruno  Avenue</td>\n",
       "      <td>San Francisco</td>\n",
       "      <td>CA</td>\n",
       "      <td>94134</td>\n",
       "      <td>06/24/2016</td>\n",
       "      <td>False</td>\n",
       "      <td>False</td>\n",
       "      <td>False</td>\n",
       "      <td>False</td>\n",
       "      <td>...</td>\n",
       "      <td>False</td>\n",
       "      <td>False</td>\n",
       "      <td>False</td>\n",
       "      <td>False</td>\n",
       "      <td>False</td>\n",
       "      <td>False</td>\n",
       "      <td>08/22/2021</td>\n",
       "      <td>9.0</td>\n",
       "      <td>Portola</td>\n",
       "      <td>(37.727050746607, -122.403281820714)</td>\n",
       "    </tr>\n",
       "    <tr>\n",
       "      <th>1</th>\n",
       "      <td>M161957</td>\n",
       "      <td>300 Block Of Park  Street</td>\n",
       "      <td>San Francisco</td>\n",
       "      <td>CA</td>\n",
       "      <td>94110</td>\n",
       "      <td>06/06/2016</td>\n",
       "      <td>False</td>\n",
       "      <td>False</td>\n",
       "      <td>False</td>\n",
       "      <td>False</td>\n",
       "      <td>...</td>\n",
       "      <td>False</td>\n",
       "      <td>False</td>\n",
       "      <td>False</td>\n",
       "      <td>False</td>\n",
       "      <td>False</td>\n",
       "      <td>False</td>\n",
       "      <td>NaN</td>\n",
       "      <td>9.0</td>\n",
       "      <td>Bernal Heights</td>\n",
       "      <td>(37.7364374645373, -122.417989910582)</td>\n",
       "    </tr>\n",
       "    <tr>\n",
       "      <th>2</th>\n",
       "      <td>M162256</td>\n",
       "      <td>200 Block Of Seneca  Avenue</td>\n",
       "      <td>San Francisco</td>\n",
       "      <td>CA</td>\n",
       "      <td>94112</td>\n",
       "      <td>06/29/2016</td>\n",
       "      <td>False</td>\n",
       "      <td>False</td>\n",
       "      <td>False</td>\n",
       "      <td>False</td>\n",
       "      <td>...</td>\n",
       "      <td>False</td>\n",
       "      <td>False</td>\n",
       "      <td>False</td>\n",
       "      <td>False</td>\n",
       "      <td>False</td>\n",
       "      <td>False</td>\n",
       "      <td>08/25/2021</td>\n",
       "      <td>11.0</td>\n",
       "      <td>Outer Mission</td>\n",
       "      <td>(37.7205429316262, -122.443264852669)</td>\n",
       "    </tr>\n",
       "    <tr>\n",
       "      <th>3</th>\n",
       "      <td>M162135</td>\n",
       "      <td>200 Block Of Dolores  Street</td>\n",
       "      <td>San Francisco</td>\n",
       "      <td>CA</td>\n",
       "      <td>94103</td>\n",
       "      <td>06/28/2016</td>\n",
       "      <td>False</td>\n",
       "      <td>True</td>\n",
       "      <td>False</td>\n",
       "      <td>False</td>\n",
       "      <td>...</td>\n",
       "      <td>False</td>\n",
       "      <td>False</td>\n",
       "      <td>False</td>\n",
       "      <td>False</td>\n",
       "      <td>False</td>\n",
       "      <td>False</td>\n",
       "      <td>NaN</td>\n",
       "      <td>8.0</td>\n",
       "      <td>Castro/Upper Market</td>\n",
       "      <td>(37.7652067507312, -122.426591617441)</td>\n",
       "    </tr>\n",
       "    <tr>\n",
       "      <th>4</th>\n",
       "      <td>M161901</td>\n",
       "      <td>1200 Block Of 9th  Avenue</td>\n",
       "      <td>San Francisco</td>\n",
       "      <td>CA</td>\n",
       "      <td>94122</td>\n",
       "      <td>06/02/2016</td>\n",
       "      <td>False</td>\n",
       "      <td>False</td>\n",
       "      <td>False</td>\n",
       "      <td>False</td>\n",
       "      <td>...</td>\n",
       "      <td>False</td>\n",
       "      <td>False</td>\n",
       "      <td>False</td>\n",
       "      <td>False</td>\n",
       "      <td>False</td>\n",
       "      <td>False</td>\n",
       "      <td>NaN</td>\n",
       "      <td>5.0</td>\n",
       "      <td>Inner Sunset</td>\n",
       "      <td>(37.764977785911, -122.4664456379)</td>\n",
       "    </tr>\n",
       "  </tbody>\n",
       "</table>\n",
       "<p>5 rows × 29 columns</p>\n",
       "</div>"
      ],
      "text/plain": [
       "  Eviction ID                          Address           City State  \\\n",
       "0     M162268  2700 Block Of San Bruno  Avenue  San Francisco    CA   \n",
       "1     M161957        300 Block Of Park  Street  San Francisco    CA   \n",
       "2     M162256      200 Block Of Seneca  Avenue  San Francisco    CA   \n",
       "3     M162135     200 Block Of Dolores  Street  San Francisco    CA   \n",
       "4     M161901        1200 Block Of 9th  Avenue  San Francisco    CA   \n",
       "\n",
       "  Eviction Notice Source Zipcode   File Date Non Payment Breach Nuisance  \\\n",
       "0                          94134  06/24/2016       False  False    False   \n",
       "1                          94110  06/06/2016       False  False    False   \n",
       "2                          94112  06/29/2016       False  False    False   \n",
       "3                          94103  06/28/2016       False   True    False   \n",
       "4                          94122  06/02/2016       False  False    False   \n",
       "\n",
       "  Illegal Use                  ...                   Roommate Same Unit  \\\n",
       "0       False                  ...                                False   \n",
       "1       False                  ...                                False   \n",
       "2       False                  ...                                False   \n",
       "3       False                  ...                                False   \n",
       "4       False                  ...                                False   \n",
       "\n",
       "  Other Cause Late Payments Lead Remediation Development Good Samaritan Ends  \\\n",
       "0       False         False            False       False               False   \n",
       "1       False         False            False       False               False   \n",
       "2       False         False            False       False               False   \n",
       "3       False         False            False       False               False   \n",
       "4       False         False            False       False               False   \n",
       "\n",
       "  Constraints Date Supervisor District Neighborhoods - Analysis Boundaries  \\\n",
       "0       08/22/2021                 9.0                             Portola   \n",
       "1              NaN                 9.0                      Bernal Heights   \n",
       "2       08/25/2021                11.0                       Outer Mission   \n",
       "3              NaN                 8.0                 Castro/Upper Market   \n",
       "4              NaN                 5.0                        Inner Sunset   \n",
       "\n",
       "                                Location  \n",
       "0   (37.727050746607, -122.403281820714)  \n",
       "1  (37.7364374645373, -122.417989910582)  \n",
       "2  (37.7205429316262, -122.443264852669)  \n",
       "3  (37.7652067507312, -122.426591617441)  \n",
       "4     (37.764977785911, -122.4664456379)  \n",
       "\n",
       "[5 rows x 29 columns]"
      ]
     },
     "execution_count": 8,
     "metadata": {},
     "output_type": "execute_result"
    }
   ],
   "source": [
    "this_file = open(\"/Users/edie/Box Sync/GitThings/loveSF/Eviction_Notices.csv\", \"r\")\n",
    "evictions = pd.read_csv(this_file)\n",
    "\n",
    "evictions.head()"
   ]
  },
  {
   "cell_type": "code",
   "execution_count": 10,
   "metadata": {
    "collapsed": false
   },
   "outputs": [
    {
     "data": {
      "text/plain": [
       "['Eviction ID',\n",
       " 'Address',\n",
       " 'City',\n",
       " 'State',\n",
       " 'Eviction Notice Source Zipcode',\n",
       " 'File Date',\n",
       " 'Non Payment',\n",
       " 'Breach',\n",
       " 'Nuisance',\n",
       " 'Illegal Use',\n",
       " 'Failure to Sign Renewal',\n",
       " 'Access Denial',\n",
       " 'Unapproved Subtenant',\n",
       " 'Owner Move In',\n",
       " 'Demolition',\n",
       " 'Capital Improvement',\n",
       " 'Substantial Rehab',\n",
       " 'Ellis Act WithDrawal',\n",
       " 'Condo Conversion',\n",
       " 'Roommate Same Unit',\n",
       " 'Other Cause',\n",
       " 'Late Payments',\n",
       " 'Lead Remediation',\n",
       " 'Development',\n",
       " 'Good Samaritan Ends',\n",
       " 'Constraints Date',\n",
       " 'Supervisor District',\n",
       " 'Neighborhoods - Analysis Boundaries',\n",
       " 'Location']"
      ]
     },
     "execution_count": 10,
     "metadata": {},
     "output_type": "execute_result"
    }
   ],
   "source": [
    "list(evictions)"
   ]
  },
  {
   "cell_type": "markdown",
   "metadata": {},
   "source": [
    "<font color=\"navy\">\n",
    "## How many percent of evictions were due to non-payment?\n",
    "Overall, 5.96%. I feel like this is inaccurate."
   ]
  },
  {
   "cell_type": "code",
   "execution_count": 14,
   "metadata": {
    "collapsed": false
   },
   "outputs": [
    {
     "data": {
      "text/plain": [
       "5.961844197138314"
      ]
     },
     "execution_count": 14,
     "metadata": {},
     "output_type": "execute_result"
    }
   ],
   "source": [
    "100*(len(evictions[evictions[\"Non Payment\"]==True]) * (len(evictions[\"Non Payment\"])**(-1)))"
   ]
  },
  {
   "cell_type": "markdown",
   "metadata": {},
   "source": [
    "<font color=\"navy\">\n",
    "## Which zip code has most of the evictions?\n",
    "The top 5 most evicted zip codes are: 94110, 94109, 94117, 94112, 94122."
   ]
  },
  {
   "cell_type": "code",
   "execution_count": 21,
   "metadata": {
    "collapsed": false
   },
   "outputs": [
    {
     "data": {
      "text/plain": [
       "[('94110', 4010),\n",
       " ('94109', 2323),\n",
       " ('94117', 2302),\n",
       " ('94112', 2071),\n",
       " ('94122', 2011)]"
      ]
     },
     "execution_count": 21,
     "metadata": {},
     "output_type": "execute_result"
    }
   ],
   "source": [
    "Counter(evictions[\"Eviction Notice Source Zipcode\"]).most_common()[0:5]"
   ]
  },
  {
   "cell_type": "markdown",
   "metadata": {},
   "source": [
    "<font color=\"navy\">\n",
    "## Are these due to non-payment?\n",
    "Yes."
   ]
  },
  {
   "cell_type": "code",
   "execution_count": 70,
   "metadata": {
    "collapsed": false
   },
   "outputs": [],
   "source": [
    "top_5 = [94110, 94109, 94117, 94112, 94122]"
   ]
  },
  {
   "cell_type": "code",
   "execution_count": 103,
   "metadata": {
    "collapsed": false
   },
   "outputs": [],
   "source": [
    "def getNeighborhoods(zip_code):\n",
    "    neighborhoods = list(set(evictions[evictions[\"Eviction Notice Source Zipcode\"]==zip_code][\"Neighborhoods - Analysis Boundaries\"]))\n",
    "    # START AT 1 DUE TO NAN\n",
    "    return(neighborhoods[1:])"
   ]
  },
  {
   "cell_type": "code",
   "execution_count": 45,
   "metadata": {
    "collapsed": true
   },
   "outputs": [],
   "source": [
    "def getNonPaidPercent(zip_code):\n",
    "    df = evictions[evictions[\"Eviction Notice Source Zipcode\"]==zip_code]\n",
    "    return(100*(len(df[df[\"Non Payment\"]==True]) * (len(df[\"Non Payment\"])**(-1))))"
   ]
  },
  {
   "cell_type": "code",
   "execution_count": 47,
   "metadata": {
    "collapsed": true
   },
   "outputs": [],
   "source": [
    "def getLatePercent(zip_code):\n",
    "    df = evictions[evictions[\"Eviction Notice Source Zipcode\"]==zip_code]\n",
    "    return(100*(len(df[df[\"Late Payments\"]==True]) * (len(df[\"Late Payments\"])**(-1))))"
   ]
  },
  {
   "cell_type": "code",
   "execution_count": 49,
   "metadata": {
    "collapsed": true
   },
   "outputs": [],
   "source": [
    "def getDemolition(zip_code):\n",
    "    df = evictions[evictions[\"Eviction Notice Source Zipcode\"]==zip_code]\n",
    "    return(100*(len(df[df[\"Demolition\"]==True]) * (len(df[\"Demolition\"])**(-1))))"
   ]
  },
  {
   "cell_type": "code",
   "execution_count": 106,
   "metadata": {
    "collapsed": false
   },
   "outputs": [],
   "source": [
    "top5_df = pd.DataFrame({\"zips\":top_5})\n",
    "top5_df[\"nonpaid\"] = [getNonPaidPercent(x) for x in top_5]\n",
    "top5_df[\"late\"] = [getLatePercent(x) for x in top_5]\n",
    "top5_df[\"demolition\"] = [getDemolition(x) for x in top_5]\n",
    "top5_df[\"neighborhoods\"] = [\", \".join(getNeighborhoods(x)) for x in top_5]"
   ]
  },
  {
   "cell_type": "code",
   "execution_count": 107,
   "metadata": {
    "collapsed": false
   },
   "outputs": [
    {
     "data": {
      "text/html": [
       "<div>\n",
       "<table border=\"1\" class=\"dataframe\">\n",
       "  <thead>\n",
       "    <tr style=\"text-align: right;\">\n",
       "      <th></th>\n",
       "      <th>zips</th>\n",
       "      <th>nonpaid</th>\n",
       "      <th>late</th>\n",
       "      <th>demolition</th>\n",
       "      <th>neighborhoods</th>\n",
       "    </tr>\n",
       "  </thead>\n",
       "  <tbody>\n",
       "    <tr>\n",
       "      <th>0</th>\n",
       "      <td>94110</td>\n",
       "      <td>7.284768</td>\n",
       "      <td>3.752759</td>\n",
       "      <td>5.298013</td>\n",
       "      <td>Glen Park, Potrero Hill, Hayes Valley, Mission...</td>\n",
       "    </tr>\n",
       "    <tr>\n",
       "      <th>1</th>\n",
       "      <td>94109</td>\n",
       "      <td>7.600000</td>\n",
       "      <td>4.000000</td>\n",
       "      <td>0.800000</td>\n",
       "      <td>Nob Hill, Japantown, Pacific Heights, Hayes Va...</td>\n",
       "    </tr>\n",
       "    <tr>\n",
       "      <th>2</th>\n",
       "      <td>94117</td>\n",
       "      <td>3.272727</td>\n",
       "      <td>3.272727</td>\n",
       "      <td>2.545455</td>\n",
       "      <td>South of Market, Lone Mountain/USF, Hayes Vall...</td>\n",
       "    </tr>\n",
       "    <tr>\n",
       "      <th>3</th>\n",
       "      <td>94112</td>\n",
       "      <td>11.111111</td>\n",
       "      <td>4.700855</td>\n",
       "      <td>5.982906</td>\n",
       "      <td>Sunset/Parkside, West of Twin Peaks, Mission, ...</td>\n",
       "    </tr>\n",
       "    <tr>\n",
       "      <th>4</th>\n",
       "      <td>94122</td>\n",
       "      <td>8.376963</td>\n",
       "      <td>3.664921</td>\n",
       "      <td>5.235602</td>\n",
       "      <td>Nob Hill, Mission, Inner Sunset, Excelsior, Ou...</td>\n",
       "    </tr>\n",
       "  </tbody>\n",
       "</table>\n",
       "</div>"
      ],
      "text/plain": [
       "    zips    nonpaid      late  demolition  \\\n",
       "0  94110   7.284768  3.752759    5.298013   \n",
       "1  94109   7.600000  4.000000    0.800000   \n",
       "2  94117   3.272727  3.272727    2.545455   \n",
       "3  94112  11.111111  4.700855    5.982906   \n",
       "4  94122   8.376963  3.664921    5.235602   \n",
       "\n",
       "                                       neighborhoods  \n",
       "0  Glen Park, Potrero Hill, Hayes Valley, Mission...  \n",
       "1  Nob Hill, Japantown, Pacific Heights, Hayes Va...  \n",
       "2  South of Market, Lone Mountain/USF, Hayes Vall...  \n",
       "3  Sunset/Parkside, West of Twin Peaks, Mission, ...  \n",
       "4  Nob Hill, Mission, Inner Sunset, Excelsior, Ou...  "
      ]
     },
     "execution_count": 107,
     "metadata": {},
     "output_type": "execute_result"
    }
   ],
   "source": [
    "top5_df"
   ]
  },
  {
   "cell_type": "markdown",
   "metadata": {},
   "source": [
    "<font color=\"navy\">\n",
    "## Can we visualize San Francisco?\n",
    "Sure, can. Will do more later."
   ]
  },
  {
   "cell_type": "code",
   "execution_count": 28,
   "metadata": {
    "collapsed": false
   },
   "outputs": [],
   "source": [
    "gmap = gmplot.GoogleMapPlotter.from_geocode(\"San Francisco\")"
   ]
  },
  {
   "cell_type": "code",
   "execution_count": 33,
   "metadata": {
    "collapsed": false
   },
   "outputs": [],
   "source": [
    "# CREATES HTML FILE\n",
    "gmap.draw(\"mymap.html\")"
   ]
  }
 ],
 "metadata": {
  "kernelspec": {
   "display_name": "Python 2",
   "language": "python",
   "name": "python2"
  },
  "language_info": {
   "codemirror_mode": {
    "name": "ipython",
    "version": 2
   },
   "file_extension": ".py",
   "mimetype": "text/x-python",
   "name": "python",
   "nbconvert_exporter": "python",
   "pygments_lexer": "ipython2",
   "version": "2.7.13"
  }
 },
 "nbformat": 4,
 "nbformat_minor": 2
}
